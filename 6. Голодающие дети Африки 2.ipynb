{
 "cells": [
  {
   "cell_type": "code",
   "execution_count": 1,
   "metadata": {
    "ExecuteTime": {
     "end_time": "2017-07-25T11:43:44.818732",
     "start_time": "2017-07-25T11:43:44.810735"
    },
    "collapsed": true
   },
   "outputs": [],
   "source": [
    "import pandas as pd\n",
    "pd.options.display.max_columns = 200\n",
    "\n",
    "import numpy as np\n",
    "import pickle\n",
    "\n",
    "import matplotlib.pyplot as plt\n",
    "%matplotlib inline\n",
    "\n",
    "import seaborn as sns\n",
    "sns.set()\n",
    "\n",
    "# увеличим дефолтный размер графиков\n",
    "from pylab import rcParams\n",
    "rcParams['figure.figsize'] = 18, 6\n",
    "rcParams['font.size'] = 16\n",
    "rcParams['axes.labelsize'] = 14\n",
    "rcParams['xtick.labelsize'] = 13\n",
    "rcParams['ytick.labelsize'] = 13"
   ]
  },
  {
   "cell_type": "markdown",
   "metadata": {},
   "source": [
    "# Данные"
   ]
  },
  {
   "cell_type": "markdown",
   "metadata": {},
   "source": [
    "Зайдите на https://www.drivendata.org/ и зарегистрируйтесь. Для сегодняшней домашки будем данные брать именно отсюда.\n",
    "\n",
    "Нас интересует конкурс https://www.drivendata.org/competitions/7/pump-it-up-data-mining-the-water-table/page/23/ .\n",
    "В нем представлены данные, собранные [Taarifa](taarifa.org) и [Танзанийским Министерством Воды и Ирригации](https://www.maji.go.tz/?q=en).\n",
    "\n",
    "Постановка задачи следующая: \n",
    "На территории Танзании установлено множество водяных насосов, которые спасают местное население от жажды. В зависимости от того, кем и когда установлен насос, а также зная, как им распоряжаются, можно попытаться предположить, какие из них функционируют, какие нуждаются в ремонте и какие не работают вовсе. \n",
    "\n",
    "Этим мы и займемся, а заодно и прокачаемся в подборе гиперпараметров алгоритмов."
   ]
  },
  {
   "cell_type": "code",
   "execution_count": 2,
   "metadata": {
    "ExecuteTime": {
     "end_time": "2017-07-25T11:44:47.787521",
     "start_time": "2017-07-25T11:44:46.914095"
    },
    "collapsed": true
   },
   "outputs": [],
   "source": [
    "train_X, train_y = pd.read_csv( # путь к вашему файлу train.csv\n",
    "    'data/WaterTable/train.csv'\n",
    "), pd.read_csv( # путь к вашему файлу trainLabels.csv\n",
    "    'data/WaterTable/trainLabels.csv'\n",
    ")\n",
    "df = pd.merge(train_X, train_y, how='left')\n",
    "\n",
    "df_test = pd.read_csv( # путь к вашему файлу test.csv\n",
    "    'data/WaterTable/test.csv'\n",
    ")"
   ]
  },
  {
   "cell_type": "markdown",
   "metadata": {},
   "source": [
    "# Предобработка"
   ]
  },
  {
   "cell_type": "code",
   "execution_count": 3,
   "metadata": {
    "ExecuteTime": {
     "end_time": "2017-07-25T11:45:57.750902",
     "start_time": "2017-07-25T11:45:57.745106"
    },
    "collapsed": true
   },
   "outputs": [],
   "source": [
    "def reduce_factor_levels(df, column_name, limit=None, top=None, name=None):\n",
    "    assert(limit is not None or top is not None), 'Specify limit ot top'\n",
    "    if top is None:\n",
    "        top = df[column_name].value_counts()[:limit].index\n",
    "    if name is None:\n",
    "        name = '%s_OTHER' % column_name\n",
    "    df.loc[~df[column_name].isin(top), column_name] = name\n",
    "    return top"
   ]
  },
  {
   "cell_type": "code",
   "execution_count": 4,
   "metadata": {
    "ExecuteTime": {
     "end_time": "2017-07-25T11:45:58.259697",
     "start_time": "2017-07-25T11:45:58.140849"
    },
    "collapsed": true
   },
   "outputs": [],
   "source": [
    "top = reduce_factor_levels(df, 'funder', 10)\n",
    "reduce_factor_levels(df_test, 'funder', top=top);\n",
    "\n",
    "top = reduce_factor_levels(df, 'installer', 10)\n",
    "reduce_factor_levels(df_test, 'installer', top=top);\n",
    "\n",
    "drop = ['wpt_name', 'num_private', 'subvillage', 'region_code', 'district_code', 'lga', 'ward', 'recorded_by', 'scheme_name']\n",
    "\n",
    "df.drop(drop, axis=1, inplace=True)\n",
    "df_test.drop(drop, axis=1, inplace=True)\n",
    "\n",
    "df.loc[df.scheme_management == 'None', 'scheme_management'] = ''\n",
    "df.loc[df.scheme_management.isnull(), 'scheme_management'] = ''\n",
    "\n",
    "df_test.loc[df_test.scheme_management.isnull(), 'scheme_management'] = ''\n",
    "\n",
    "df['construction_date_known'] = (df.construction_year > 0).astype(np.int32)\n",
    "df_test['construction_date_known'] = (df_test.construction_year > 0).astype(np.int32)\n",
    "\n",
    "min_year = df[df.construction_year > 0].construction_year.min() // 10 - 1\n",
    "\n",
    "df['construction_decade'] = df.construction_year // 10 - min_year\n",
    "df_test['construction_decade'] = df_test.construction_year // 10 - min_year\n",
    "\n",
    "df.loc[df.construction_decade < 0, 'construction_decade'] = 0\n",
    "df_test.loc[df_test.construction_decade < 0, 'construction_decade'] = 0\n",
    "\n",
    "top = reduce_factor_levels(df, 'construction_year', 20)\n",
    "reduce_factor_levels(df_test, 'construction_year', top=top);\n",
    "\n",
    "df.loc[df.extraction_type == 'other - mkulima/shinyanga', 'extraction_type'] = 'other'\n",
    "\n",
    "heights = np.arange(-1, df.gps_height.max()+500, 500)\n",
    "height_labels = list(range(len(heights)-1))\n",
    "\n",
    "df['gps_height_rounded'] = pd.cut(df.gps_height, bins=heights, labels=height_labels)\n",
    "df_test['gps_height_rounded'] = pd.cut(df_test.gps_height, bins=heights, labels=height_labels)\n",
    "\n",
    "df.drop(['gps_height'], axis=1, inplace=True)\n",
    "df_test.drop(['gps_height'], axis=1, inplace=True)\n",
    "\n",
    "pops = np.arange(-1, df.population.max()+500, 500)\n",
    "pops_labels = list(range(len(pops)-1))\n",
    "\n",
    "df['pop_rounded'] = pd.cut(df.population, bins=pops, labels=pops_labels)\n",
    "df_test['pop_rounded'] = pd.cut(df_test.population, bins=pops, labels=pops_labels)\n",
    "\n",
    "df.drop(['population'], axis=1, inplace=True)\n",
    "df_test.drop(['population'], axis=1, inplace=True)\n",
    "\n",
    "df.drop(['date_recorded'], axis=1, inplace=True)\n",
    "df_test.drop(['date_recorded'], axis=1, inplace=True)\n",
    "\n",
    "df.public_meeting.fillna(True, inplace=True)\n",
    "df_test.public_meeting.fillna(True, inplace=True)\n",
    "\n",
    "df.permit.fillna(True, inplace=True)\n",
    "df_test.permit.fillna(True, inplace=True)\n",
    "\n",
    "df.gps_height_rounded.fillna(0, inplace=True)\n",
    "df_test.gps_height_rounded.fillna(0, inplace=True)\n",
    "\n",
    "X, y, X_test = df.drop(['id', 'status_group'], axis=1), \\\n",
    "               df.status_group, \\\n",
    "               df_test.drop(['id'], axis=1)\n",
    "        \n",
    "def prepare(X_train, X_test):\n",
    "    from sklearn.preprocessing import StandardScaler\n",
    "    from sklearn.feature_extraction import DictVectorizer\n",
    "    \n",
    "    objects = X_train.select_dtypes(include=['O']).columns.values\n",
    "    numeric = X_train.select_dtypes(exclude=['O']).columns.values\n",
    "    \n",
    "    dv = DictVectorizer(sparse=False)\n",
    "    data_encoded_tr = dv.fit_transform(X_train[objects].to_dict(orient='records'))\n",
    "    data_encoded_ts = dv.transform(X_test[objects].to_dict(orient='records'))\n",
    "\n",
    "    ss = StandardScaler()\n",
    "    data_scaled_tr = ss.fit_transform(X_train[numeric])\n",
    "    data_scaled_ts = ss.transform(X_test[numeric])\n",
    "    \n",
    "    train = np.hstack((data_encoded_tr, data_scaled_tr))\n",
    "    test  = np.hstack((data_encoded_ts, data_scaled_ts))\n",
    "    return train, test\n",
    "\n",
    "x_train, x_test = prepare(X, X_test)\n",
    "\n",
    "from sklearn.preprocessing import LabelEncoder\n",
    "y_encoder = LabelEncoder()\n",
    "y = y_encoder.fit_transform(y)"
   ]
  },
  {
   "cell_type": "markdown",
   "metadata": {},
   "source": [
    "<div class=\"panel panel-info\" style=\"margin: 50px 0 0 0\">\n",
    "    <div class=\"panel-heading\">\n",
    "        <h3 class=\"panel-title\">Задание</h3> \n",
    "    </div>\n",
    "</div>\n",
    "\n",
    "Применив ансамблирование, стекинг и блэндинг улучшить вчерашние результаты"
   ]
  },
  {
   "cell_type": "markdown",
   "metadata": {},
   "source": [
    "### Вчерашние результаты для устрашения"
   ]
  },
  {
   "cell_type": "code",
   "execution_count": 24,
   "metadata": {
    "collapsed": true
   },
   "outputs": [],
   "source": [
    "from sklearn.model_selection import cross_val_score"
   ]
  },
  {
   "cell_type": "code",
   "execution_count": 25,
   "metadata": {
    "ExecuteTime": {
     "end_time": "2017-07-24T21:56:26.511616",
     "start_time": "2017-07-24T21:56:26.509076"
    }
   },
   "outputs": [
    {
     "data": {
      "text/plain": [
       "(0.80228956228956239, 0.0032337258460721531)"
      ]
     },
     "execution_count": 25,
     "metadata": {},
     "output_type": "execute_result"
    }
   ],
   "source": [
    "from lightgbm import LGBMClassifier\n",
    "\n",
    "clf2 = LGBMClassifier(max_bin=460,learning_rate=0.11,n_estimators=140,num_leaves=130)\n",
    " \n",
    "scores = cross_val_score(clf2, x_train, y)\n",
    "np.mean(scores), 2*np.std(scores)"
   ]
  },
  {
   "cell_type": "code",
   "execution_count": 26,
   "metadata": {
    "collapsed": true
   },
   "outputs": [],
   "source": [
    "clf2 = clf2.fit(x_train, y)"
   ]
  },
  {
   "cell_type": "code",
   "execution_count": 27,
   "metadata": {},
   "outputs": [
    {
     "data": {
      "text/plain": [
       "array([2, 0, 0, ..., 0, 0, 2], dtype=int64)"
      ]
     },
     "execution_count": 27,
     "metadata": {},
     "output_type": "execute_result"
    }
   ],
   "source": [
    "y_te = clf2.predict(x_test)\n",
    "y_te"
   ]
  },
  {
   "cell_type": "code",
   "execution_count": 28,
   "metadata": {},
   "outputs": [
    {
     "data": {
      "text/html": [
       "<div>\n",
       "<style>\n",
       "    .dataframe thead tr:only-child th {\n",
       "        text-align: right;\n",
       "    }\n",
       "\n",
       "    .dataframe thead th {\n",
       "        text-align: left;\n",
       "    }\n",
       "\n",
       "    .dataframe tbody tr th {\n",
       "        vertical-align: top;\n",
       "    }\n",
       "</style>\n",
       "<table border=\"1\" class=\"dataframe\">\n",
       "  <thead>\n",
       "    <tr style=\"text-align: right;\">\n",
       "      <th></th>\n",
       "      <th>id</th>\n",
       "      <th>status_group</th>\n",
       "    </tr>\n",
       "  </thead>\n",
       "  <tbody>\n",
       "    <tr>\n",
       "      <th>0</th>\n",
       "      <td>50785</td>\n",
       "      <td>non functional</td>\n",
       "    </tr>\n",
       "    <tr>\n",
       "      <th>1</th>\n",
       "      <td>51630</td>\n",
       "      <td>functional</td>\n",
       "    </tr>\n",
       "    <tr>\n",
       "      <th>2</th>\n",
       "      <td>17168</td>\n",
       "      <td>functional</td>\n",
       "    </tr>\n",
       "    <tr>\n",
       "      <th>3</th>\n",
       "      <td>45559</td>\n",
       "      <td>non functional</td>\n",
       "    </tr>\n",
       "    <tr>\n",
       "      <th>4</th>\n",
       "      <td>49871</td>\n",
       "      <td>functional</td>\n",
       "    </tr>\n",
       "  </tbody>\n",
       "</table>\n",
       "</div>"
      ],
      "text/plain": [
       "      id    status_group\n",
       "0  50785  non functional\n",
       "1  51630      functional\n",
       "2  17168      functional\n",
       "3  45559  non functional\n",
       "4  49871      functional"
      ]
     },
     "execution_count": 28,
     "metadata": {},
     "output_type": "execute_result"
    }
   ],
   "source": [
    "ans_nn = pd.DataFrame({'id': df_test['id'], 'status_group': y_encoder.inverse_transform(y_te)})\n",
    "ans_nn.head()"
   ]
  },
  {
   "cell_type": "code",
   "execution_count": 29,
   "metadata": {
    "collapsed": true
   },
   "outputs": [],
   "source": [
    "#ans_nn.to_csv('ans_lightgbm.csv', index=False)"
   ]
  },
  {
   "cell_type": "markdown",
   "metadata": {},
   "source": [
    "### Опробуем ансамблирование"
   ]
  },
  {
   "cell_type": "code",
   "execution_count": 13,
   "metadata": {
    "collapsed": true
   },
   "outputs": [],
   "source": [
    "from sklearn.pipeline import make_pipeline\n",
    "from mlxtend.classifier import EnsembleVoteClassifier\n",
    "from sklearn.preprocessing import PolynomialFeatures\n",
    "from sklearn.linear_model import LogisticRegression\n",
    "from lightgbm import LGBMClassifier\n",
    "from sklearn.tree import DecisionTreeClassifier\n",
    "from sklearn.model_selection import cross_val_score"
   ]
  },
  {
   "cell_type": "code",
   "execution_count": 17,
   "metadata": {},
   "outputs": [],
   "source": [
    "clfs = [make_pipeline(PolynomialFeatures(degree=2), LogisticRegression()), \n",
    "        LGBMClassifier(), \n",
    "        DecisionTreeClassifier()]"
   ]
  },
  {
   "cell_type": "code",
   "execution_count": 18,
   "metadata": {
    "collapsed": true
   },
   "outputs": [],
   "source": [
    "eclf = EnsembleVoteClassifier(clfs=clfs, voting='soft', weights=[1,2,1])"
   ]
  },
  {
   "cell_type": "code",
   "execution_count": 19,
   "metadata": {},
   "outputs": [
    {
     "data": {
      "text/plain": [
       "(0.75796296296296306, 0.0021096902623327272)"
      ]
     },
     "execution_count": 19,
     "metadata": {},
     "output_type": "execute_result"
    }
   ],
   "source": [
    "scores = cross_val_score(eclf, x_train, y)\n",
    "np.mean(scores), 2*np.std(scores)"
   ]
  },
  {
   "cell_type": "code",
   "execution_count": null,
   "metadata": {
    "collapsed": true
   },
   "outputs": [],
   "source": [
    "eclf = eclf.fit(x_train, y)"
   ]
  },
  {
   "cell_type": "code",
   "execution_count": null,
   "metadata": {
    "collapsed": true
   },
   "outputs": [],
   "source": [
    "y_te = eclf.predict(x_test)\n",
    "y_te"
   ]
  },
  {
   "cell_type": "code",
   "execution_count": null,
   "metadata": {
    "collapsed": true
   },
   "outputs": [],
   "source": [
    "ans_nn = pd.DataFrame({'id': df_test['id'], 'status_group': y_encoder.inverse_transform(y_te)})\n",
    "ans_nn.head()"
   ]
  },
  {
   "cell_type": "code",
   "execution_count": null,
   "metadata": {
    "collapsed": true
   },
   "outputs": [],
   "source": [
    "#ans_nn.to_csv('ans_ansambl.csv', index=False)"
   ]
  }
 ],
 "metadata": {
  "kernelspec": {
   "display_name": "Python 3",
   "language": "python",
   "name": "python3"
  },
  "language_info": {
   "codemirror_mode": {
    "name": "ipython",
    "version": 3
   },
   "file_extension": ".py",
   "mimetype": "text/x-python",
   "name": "python",
   "nbconvert_exporter": "python",
   "pygments_lexer": "ipython3",
   "version": "3.6.1"
  },
  "toc": {
   "colors": {
    "hover_highlight": "#DAA520",
    "running_highlight": "#FF0000",
    "selected_highlight": "#FFD700"
   },
   "moveMenuLeft": true,
   "nav_menu": {
    "height": "174px",
    "width": "252px"
   },
   "navigate_menu": true,
   "number_sections": true,
   "sideBar": true,
   "threshold": 4,
   "toc_cell": false,
   "toc_section_display": "block",
   "toc_window_display": false
  }
 },
 "nbformat": 4,
 "nbformat_minor": 2
}
