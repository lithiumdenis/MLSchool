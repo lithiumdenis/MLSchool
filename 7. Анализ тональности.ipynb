{
 "cells": [
  {
   "cell_type": "code",
   "execution_count": 43,
   "metadata": {
    "ExecuteTime": {
     "end_time": "2017-07-26T18:25:03.563165",
     "start_time": "2017-07-26T18:25:03.558956"
    },
    "collapsed": true
   },
   "outputs": [],
   "source": [
    "import pandas as pd\n",
    "import numpy as np\n",
    "import matplotlib.pyplot as plt\n",
    "%matplotlib inline"
   ]
  },
  {
   "cell_type": "markdown",
   "metadata": {},
   "source": [
    "# Данные"
   ]
  },
  {
   "cell_type": "markdown",
   "metadata": {},
   "source": [
    "Возьмите данные отсюда: https://inclass.kaggle.com/c/si650winter11\n",
    "\n",
    "В этот раз это inclass-соревнование, а не настоящий kaggle. В задачах на текст Kaggle обычно не мелочится, и сгружает гигабайты в выборках. Конкретно же этот конкурс из университета Мичигана вполне легко разворачивается на домашнем компьютере."
   ]
  },
  {
   "cell_type": "code",
   "execution_count": 3,
   "metadata": {
    "ExecuteTime": {
     "end_time": "2017-07-26T18:32:39.072559",
     "start_time": "2017-07-26T18:32:39.047242"
    },
    "collapsed": true
   },
   "outputs": [],
   "source": [
    "import codecs\n",
    "fileObj = codecs.open( 'data/TextWorks/training.txt', \"r\", \"utf_8_sig\" )\n",
    "lines = fileObj.readlines()\n",
    "\n",
    "#with open( 'data/TextWorks/training.txt'\n",
    "#          # Путь к вашему training.txt-файлу\n",
    "#         ) as handle:\n",
    "#    lines = handle.readlines()\n",
    "\n",
    "data = [x.strip().split('\\t') for x in lines]\n",
    "\n",
    "df = pd.DataFrame(data=data, columns=['target', 'text'])\n",
    "df.target = df.target.astype(np.int32)\n",
    "df = df.drop_duplicates().reset_index(drop=True)"
   ]
  },
  {
   "cell_type": "code",
   "execution_count": 4,
   "metadata": {
    "ExecuteTime": {
     "end_time": "2017-07-26T18:32:39.281795",
     "start_time": "2017-07-26T18:32:39.199800"
    },
    "collapsed": true
   },
   "outputs": [],
   "source": [
    "#with open( 'data/TextWorks/testdata.txt'\n",
    "#          # Путь к вашему test.txt-файлу\n",
    "#         ) as handle:\n",
    "#    lines = handle.readlines()\n",
    "\n",
    "fileObj = codecs.open( 'data/TextWorks/testdata.txt', \"r\", \"utf_8_sig\" )\n",
    "lines = fileObj.readlines()\n",
    "\n",
    "data = [x.strip().split('\\t') for x in lines]\n",
    "\n",
    "df_test = pd.DataFrame(data=data, columns=['text'])\n",
    "df_test = df_test.drop_duplicates().reset_index(drop=True)"
   ]
  },
  {
   "cell_type": "code",
   "execution_count": 5,
   "metadata": {
    "ExecuteTime": {
     "end_time": "2017-07-26T18:32:40.151482",
     "start_time": "2017-07-26T18:32:40.143561"
    }
   },
   "outputs": [
    {
     "data": {
      "text/html": [
       "<div>\n",
       "<style>\n",
       "    .dataframe thead tr:only-child th {\n",
       "        text-align: right;\n",
       "    }\n",
       "\n",
       "    .dataframe thead th {\n",
       "        text-align: left;\n",
       "    }\n",
       "\n",
       "    .dataframe tbody tr th {\n",
       "        vertical-align: top;\n",
       "    }\n",
       "</style>\n",
       "<table border=\"1\" class=\"dataframe\">\n",
       "  <thead>\n",
       "    <tr style=\"text-align: right;\">\n",
       "      <th></th>\n",
       "      <th>target</th>\n",
       "      <th>text</th>\n",
       "    </tr>\n",
       "  </thead>\n",
       "  <tbody>\n",
       "    <tr>\n",
       "      <th>0</th>\n",
       "      <td>1</td>\n",
       "      <td>The Da Vinci Code book is just awesome.</td>\n",
       "    </tr>\n",
       "    <tr>\n",
       "      <th>1</th>\n",
       "      <td>1</td>\n",
       "      <td>this was the first clive cussler i've ever rea...</td>\n",
       "    </tr>\n",
       "    <tr>\n",
       "      <th>2</th>\n",
       "      <td>1</td>\n",
       "      <td>i liked the Da Vinci Code a lot.</td>\n",
       "    </tr>\n",
       "    <tr>\n",
       "      <th>3</th>\n",
       "      <td>1</td>\n",
       "      <td>I liked the Da Vinci Code but it ultimatly did...</td>\n",
       "    </tr>\n",
       "    <tr>\n",
       "      <th>4</th>\n",
       "      <td>1</td>\n",
       "      <td>that's not even an exaggeration ) and at midni...</td>\n",
       "    </tr>\n",
       "  </tbody>\n",
       "</table>\n",
       "</div>"
      ],
      "text/plain": [
       "   target                                               text\n",
       "0       1            The Da Vinci Code book is just awesome.\n",
       "1       1  this was the first clive cussler i've ever rea...\n",
       "2       1                   i liked the Da Vinci Code a lot.\n",
       "3       1  I liked the Da Vinci Code but it ultimatly did...\n",
       "4       1  that's not even an exaggeration ) and at midni..."
      ]
     },
     "execution_count": 5,
     "metadata": {},
     "output_type": "execute_result"
    }
   ],
   "source": [
    "df.head()"
   ]
  },
  {
   "cell_type": "markdown",
   "metadata": {},
   "source": [
    "<div class=\"panel panel-info\" style=\"margin: 50px 0 0 0\">\n",
    "    <div class=\"panel-heading\">\n",
    "        <h3 class=\"panel-title\">Задание 1.</h3> \n",
    "    </div>\n",
    "</div>"
   ]
  },
  {
   "cell_type": "markdown",
   "metadata": {},
   "source": [
    "### Токенизация"
   ]
  },
  {
   "cell_type": "code",
   "execution_count": 7,
   "metadata": {},
   "outputs": [],
   "source": [
    "#Загрузка модулей nltk через интерфейс проги\n",
    "#import nltk\n",
    "#nltk.download()"
   ]
  },
  {
   "cell_type": "code",
   "execution_count": 8,
   "metadata": {
    "collapsed": true
   },
   "outputs": [],
   "source": [
    "from nltk import word_tokenize, wordpunct_tokenize, sent_tokenize"
   ]
  },
  {
   "cell_type": "code",
   "execution_count": 9,
   "metadata": {},
   "outputs": [
    {
     "data": {
      "text/plain": [
       "\"this was the first clive cussler i've ever read, but even books like Relic, and Da Vinci code were more plausible than this.\""
      ]
     },
     "execution_count": 9,
     "metadata": {},
     "output_type": "execute_result"
    }
   ],
   "source": [
    "s = df.text[1]\n",
    "s"
   ]
  },
  {
   "cell_type": "code",
   "execution_count": 10,
   "metadata": {
    "collapsed": true
   },
   "outputs": [],
   "source": [
    "import re"
   ]
  },
  {
   "cell_type": "code",
   "execution_count": 11,
   "metadata": {
    "scrolled": false
   },
   "outputs": [
    {
     "data": {
      "text/plain": [
       "['this',\n",
       " 'was',\n",
       " 'the',\n",
       " 'first',\n",
       " 'clive',\n",
       " 'cussler',\n",
       " 'i',\n",
       " 'ever',\n",
       " 'read',\n",
       " 'but',\n",
       " 'even',\n",
       " 'books',\n",
       " 'like',\n",
       " 'relic',\n",
       " 'and',\n",
       " 'da',\n",
       " 'vinci',\n",
       " 'code',\n",
       " 'were',\n",
       " 'more',\n",
       " 'plausible',\n",
       " 'than',\n",
       " 'this']"
      ]
     },
     "execution_count": 11,
     "metadata": {},
     "output_type": "execute_result"
    }
   ],
   "source": [
    "tokens = [x.lower() for x in word_tokenize(s) if re.match(\"[a-zA-Z\\d]+\", x) is not None]\n",
    "tokens"
   ]
  },
  {
   "cell_type": "markdown",
   "metadata": {
    "collapsed": true
   },
   "source": [
    "### Стоп-слова"
   ]
  },
  {
   "cell_type": "code",
   "execution_count": 12,
   "metadata": {
    "collapsed": true
   },
   "outputs": [],
   "source": [
    "from nltk.corpus import stopwords"
   ]
  },
  {
   "cell_type": "code",
   "execution_count": 14,
   "metadata": {},
   "outputs": [
    {
     "name": "stdout",
     "output_type": "stream",
     "text": [
      "i\tme\tmy\tmyself\twe\tour\tours\tourselves\tyou\tyour\tyours\tyourself\tyourselves\the\thim\this\thimself\tshe\ther\thers\therself\tit\tits\titself\tthey\tthem\ttheir\ttheirs\tthemselves\twhat\twhich\twho\twhom\tthis\tthat\tthese\tthose\tam\tis\tare\twas\twere\tbe\tbeen\tbeing\thave\thas\thad\thaving\tdo\tdoes\tdid\tdoing\ta\tan\tthe\tand\tbut\tif\tor\tbecause\tas\tuntil\twhile\tof\tat\tby\tfor\twith\tabout\tagainst\tbetween\tinto\tthrough\tduring\tbefore\tafter\tabove\tbelow\tto\tfrom\tup\tdown\tin\tout\ton\toff\tover\tunder\tagain\tfurther\tthen\tonce\there\tthere\twhen\twhere\twhy\thow\tall\tany\tboth\teach\tfew\tmore\tmost\tother\tsome\tsuch\tno\tnor\tnot\tonly\town\tsame\tso\tthan\ttoo\tvery\ts\tt\tcan\twill\tjust\tdon\tshould\tnow\td\tll\tm\to\tre\tve\ty\tain\taren\tcouldn\tdidn\tdoesn\thadn\thasn\thaven\tisn\tma\tmightn\tmustn\tneedn\tshan\tshouldn\twasn\tweren\twon\twouldn\t"
     ]
    }
   ],
   "source": [
    "[print(x, end='\\t') for x in stopwords.words('english')];"
   ]
  },
  {
   "cell_type": "code",
   "execution_count": 16,
   "metadata": {},
   "outputs": [
    {
     "name": "stdout",
     "output_type": "stream",
     "text": [
      "и\tв\tво\tне\tчто\tон\tна\tя\tс\tсо\tкак\tа\tто\tвсе\tона\tтак\tего\tно\tда\tты\tк\tу\tже\tвы\tза\tбы\tпо\tтолько\tее\tмне\tбыло\tвот\tот\tменя\tеще\tнет\tо\tиз\tему\tтеперь\tкогда\tдаже\tну\tвдруг\tли\tесли\tуже\tили\tни\tбыть\tбыл\tнего\tдо\tвас\tнибудь\tопять\tуж\tвам\tведь\tтам\tпотом\tсебя\tничего\tей\tможет\tони\tтут\tгде\tесть\tнадо\tней\tдля\tмы\tтебя\tих\tчем\tбыла\tсам\tчтоб\tбез\tбудто\tчего\tраз\tтоже\tсебе\tпод\tбудет\tж\tтогда\tкто\tэтот\tтого\tпотому\tэтого\tкакой\tсовсем\tним\tздесь\tэтом\tодин\tпочти\tмой\tтем\tчтобы\tнее\tсейчас\tбыли\tкуда\tзачем\tвсех\tникогда\tможно\tпри\tнаконец\tдва\tоб\tдругой\tхоть\tпосле\tнад\tбольше\tтот\tчерез\tэти\tнас\tпро\tвсего\tних\tкакая\tмного\tразве\tтри\tэту\tмоя\tвпрочем\tхорошо\tсвою\tэтой\tперед\tиногда\tлучше\tчуть\tтом\tнельзя\tтакой\tим\tболее\tвсегда\tконечно\tвсю\tмежду\t"
     ]
    }
   ],
   "source": [
    "[print(x, end='\\t') for x in stopwords.words('russian')];"
   ]
  },
  {
   "cell_type": "code",
   "execution_count": 17,
   "metadata": {},
   "outputs": [
    {
     "data": {
      "text/plain": [
       "['this', 'was', 'the', 'i', 'but', 'and', 'were', 'more', 'than', 'this']"
      ]
     },
     "execution_count": 17,
     "metadata": {},
     "output_type": "execute_result"
    }
   ],
   "source": [
    "throwed = [x for x in tokens if x in stopwords.words('english')]\n",
    "throwed"
   ]
  },
  {
   "cell_type": "code",
   "execution_count": 18,
   "metadata": {},
   "outputs": [
    {
     "data": {
      "text/plain": [
       "['first',\n",
       " 'clive',\n",
       " 'cussler',\n",
       " 'ever',\n",
       " 'read',\n",
       " 'even',\n",
       " 'books',\n",
       " 'like',\n",
       " 'relic',\n",
       " 'da',\n",
       " 'vinci',\n",
       " 'code',\n",
       " 'plausible']"
      ]
     },
     "execution_count": 18,
     "metadata": {},
     "output_type": "execute_result"
    }
   ],
   "source": [
    "filtered_tokens = [x for x in tokens if x not in stopwords.words('english')]\n",
    "filtered_tokens"
   ]
  },
  {
   "cell_type": "markdown",
   "metadata": {},
   "source": [
    "### Лемматизация (Приведение к единственному числу именительного падежа)"
   ]
  },
  {
   "cell_type": "code",
   "execution_count": 19,
   "metadata": {
    "collapsed": true
   },
   "outputs": [],
   "source": [
    "from nltk import WordNetLemmatizer"
   ]
  },
  {
   "cell_type": "code",
   "execution_count": 20,
   "metadata": {
    "collapsed": true
   },
   "outputs": [],
   "source": [
    "wnl = WordNetLemmatizer()"
   ]
  },
  {
   "cell_type": "code",
   "execution_count": 21,
   "metadata": {},
   "outputs": [
    {
     "name": "stdout",
     "output_type": "stream",
     "text": [
      "     first -> first      \n",
      "     clive -> clive      \n",
      "   cussler -> cussler    \n",
      "      ever -> ever       \n",
      "      read -> read       \n",
      "      even -> even       \n",
      "     books -> book       <- processed!\n",
      "      like -> like       \n",
      "     relic -> relic      \n",
      "        da -> da         \n",
      "     vinci -> vinci      \n",
      "      code -> code       \n",
      " plausible -> plausible  \n"
     ]
    }
   ],
   "source": [
    "lemmatized = [wnl.lemmatize(x, pos='v') for x in filtered_tokens] # default is Verb\n",
    "\n",
    "for a,b in zip(filtered_tokens, lemmatized):\n",
    "    print(a.rjust(10), '->', b.ljust(10), '' if a == b else '<- processed!')"
   ]
  },
  {
   "cell_type": "code",
   "execution_count": 22,
   "metadata": {},
   "outputs": [
    {
     "name": "stdout",
     "output_type": "stream",
     "text": [
      "     first -> first      \n",
      "     clive -> clive      \n",
      "   cussler -> cussler    \n",
      "      ever -> ever       \n",
      "      read -> read       \n",
      "      even -> even       \n",
      "     books -> book       <- processed!\n",
      "      like -> like       \n",
      "     relic -> relic      \n",
      "        da -> da         \n",
      "     vinci -> vinci      \n",
      "      code -> code       \n",
      " plausible -> plausible  \n"
     ]
    }
   ],
   "source": [
    "lemmatized = [wnl.lemmatize(x) for x in filtered_tokens] # default is Noun\n",
    "\n",
    "for a,b in zip(filtered_tokens, lemmatized):\n",
    "    print(a.rjust(10), '->', b.ljust(10), '' if a == b else '<- processed!')"
   ]
  },
  {
   "cell_type": "code",
   "execution_count": 23,
   "metadata": {
    "collapsed": true
   },
   "outputs": [],
   "source": [
    "#Сделаем разделение по частям речи\n",
    "from nltk import pos_tag"
   ]
  },
  {
   "cell_type": "code",
   "execution_count": 24,
   "metadata": {},
   "outputs": [
    {
     "data": {
      "text/plain": [
       "[('first', 'RB'),\n",
       " ('clive', 'JJ'),\n",
       " ('cussler', 'NN'),\n",
       " ('ever', 'RB'),\n",
       " ('read', 'VBD'),\n",
       " ('even', 'RB'),\n",
       " ('books', 'NNS'),\n",
       " ('like', 'IN'),\n",
       " ('relic', 'JJ'),\n",
       " ('da', 'NN'),\n",
       " ('vinci', 'NN'),\n",
       " ('code', 'NN'),\n",
       " ('plausible', 'JJ')]"
      ]
     },
     "execution_count": 24,
     "metadata": {},
     "output_type": "execute_result"
    }
   ],
   "source": [
    "pos_tag(filtered_tokens)"
   ]
  },
  {
   "cell_type": "code",
   "execution_count": 25,
   "metadata": {
    "collapsed": true
   },
   "outputs": [],
   "source": [
    "from nltk.help import upenn_tagset"
   ]
  },
  {
   "cell_type": "code",
   "execution_count": 26,
   "metadata": {
    "collapsed": true
   },
   "outputs": [],
   "source": [
    "#Описание сокращений\n",
    "#upenn_tagset()"
   ]
  },
  {
   "cell_type": "code",
   "execution_count": 27,
   "metadata": {
    "collapsed": true
   },
   "outputs": [],
   "source": [
    "from nltk.corpus import wordnet as wn"
   ]
  },
  {
   "cell_type": "code",
   "execution_count": 28,
   "metadata": {
    "collapsed": true
   },
   "outputs": [],
   "source": [
    "convert_tag = lambda t: { 'N': wn.NOUN, 'V': wn.VERB, 'R': wn.ADV, 'J': wn.ADJ, 'S': wn.ADJ_SAT }.get(t[:1], wn.NOUN)"
   ]
  },
  {
   "cell_type": "code",
   "execution_count": 29,
   "metadata": {},
   "outputs": [
    {
     "name": "stdout",
     "output_type": "stream",
     "text": [
      "     first -> first      \n",
      "     clive -> clive      \n",
      "   cussler -> cussler    \n",
      "      ever -> ever       \n",
      "      read -> read       \n",
      "      even -> even       \n",
      "     books -> book       <- processed!\n",
      "      like -> like       \n",
      "     relic -> relic      \n",
      "        da -> da         \n",
      "     vinci -> vinci      \n",
      "      code -> code       \n",
      " plausible -> plausible  \n"
     ]
    }
   ],
   "source": [
    "lemmatized = [wnl.lemmatize(word, convert_tag(tag)) for word, tag in pos_tag(filtered_tokens)]\n",
    "\n",
    "for a,b in zip(filtered_tokens, lemmatized):\n",
    "    print(a.rjust(10), '->', b.ljust(10), '' if a == b else '<- processed!')"
   ]
  },
  {
   "cell_type": "markdown",
   "metadata": {},
   "source": [
    "### Стемминг (усечение окончаний)"
   ]
  },
  {
   "cell_type": "code",
   "execution_count": 30,
   "metadata": {
    "collapsed": true
   },
   "outputs": [],
   "source": [
    "from nltk.stem import SnowballStemmer, LancasterStemmer, PorterStemmer"
   ]
  },
  {
   "cell_type": "code",
   "execution_count": 31,
   "metadata": {},
   "outputs": [
    {
     "name": "stdout",
     "output_type": "stream",
     "text": [
      "     first -> first      \n",
      "     clive -> clive      \n",
      "   cussler -> cussler    \n",
      "      ever -> ever       \n",
      "      read -> read       \n",
      "      even -> even       \n",
      "     books -> book       <- processed!\n",
      "      like -> like       \n",
      "     relic -> relic      \n",
      "        da -> da         \n",
      "     vinci -> vinci      \n",
      "      code -> code       \n",
      " plausible -> plausible  \n"
     ]
    }
   ],
   "source": [
    "sbs = SnowballStemmer('english')\n",
    "\n",
    "stemmed = [sbs.stem(x) for x in filtered_tokens]\n",
    "\n",
    "for a,b in zip(filtered_tokens, lemmatized):\n",
    "    print(a.rjust(10), '->', b.ljust(10), '' if a == b else '<- processed!')"
   ]
  },
  {
   "cell_type": "code",
   "execution_count": 32,
   "metadata": {},
   "outputs": [
    {
     "name": "stdout",
     "output_type": "stream",
     "text": [
      "     first -> first      \n",
      "     clive -> clive      \n",
      "   cussler -> cussler    \n",
      "      ever -> ever       \n",
      "      read -> read       \n",
      "      even -> even       \n",
      "     books -> book       <- processed!\n",
      "      like -> like       \n",
      "     relic -> relic      \n",
      "        da -> da         \n",
      "     vinci -> vinci      \n",
      "      code -> code       \n",
      " plausible -> plausible  \n"
     ]
    }
   ],
   "source": [
    "sbs = PorterStemmer()\n",
    "\n",
    "stemmed = [sbs.stem(x) for x in filtered_tokens]\n",
    "\n",
    "for a,b in zip(filtered_tokens, lemmatized):\n",
    "    print(a.rjust(10), '->', b.ljust(10), '' if a == b else '<- processed!')"
   ]
  },
  {
   "cell_type": "code",
   "execution_count": 33,
   "metadata": {},
   "outputs": [
    {
     "name": "stdout",
     "output_type": "stream",
     "text": [
      "     first -> first      \n",
      "     clive -> clive      \n",
      "   cussler -> cussler    \n",
      "      ever -> ever       \n",
      "      read -> read       \n",
      "      even -> even       \n",
      "     books -> book       <- processed!\n",
      "      like -> like       \n",
      "     relic -> relic      \n",
      "        da -> da         \n",
      "     vinci -> vinci      \n",
      "      code -> code       \n",
      " plausible -> plausible  \n"
     ]
    }
   ],
   "source": [
    "sbs = LancasterStemmer()\n",
    "\n",
    "stemmed = [sbs.stem(x) for x in filtered_tokens]\n",
    "\n",
    "for a,b in zip(filtered_tokens, lemmatized):\n",
    "    print(a.rjust(10), '->', b.ljust(10), '' if a == b else '<- processed!')"
   ]
  },
  {
   "cell_type": "code",
   "execution_count": 34,
   "metadata": {
    "collapsed": true
   },
   "outputs": [],
   "source": [
    "sbs = SnowballStemmer('english')\n",
    "\n",
    "def process_by_far(s):\n",
    "    s = [x.lower() for x in word_tokenize(s) if re.match(\"[a-zA-Z\\d]+\", x) is not None] # токенизация\n",
    "    s = [x for x in s if x not in stopwords.words('english')] # стоп-слова\n",
    "    s = [sbs.stem(x) for x in s] # стемминг\n",
    "    return ' '.join(s)"
   ]
  },
  {
   "cell_type": "code",
   "execution_count": 35,
   "metadata": {
    "collapsed": true
   },
   "outputs": [],
   "source": [
    "df['cleansed_text'] = df.text.apply(process_by_far)"
   ]
  },
  {
   "cell_type": "code",
   "execution_count": 36,
   "metadata": {},
   "outputs": [
    {
     "data": {
      "text/html": [
       "<div>\n",
       "<style>\n",
       "    .dataframe thead tr:only-child th {\n",
       "        text-align: right;\n",
       "    }\n",
       "\n",
       "    .dataframe thead th {\n",
       "        text-align: left;\n",
       "    }\n",
       "\n",
       "    .dataframe tbody tr th {\n",
       "        vertical-align: top;\n",
       "    }\n",
       "</style>\n",
       "<table border=\"1\" class=\"dataframe\">\n",
       "  <thead>\n",
       "    <tr style=\"text-align: right;\">\n",
       "      <th></th>\n",
       "      <th>target</th>\n",
       "      <th>text</th>\n",
       "      <th>cleansed_text</th>\n",
       "    </tr>\n",
       "  </thead>\n",
       "  <tbody>\n",
       "    <tr>\n",
       "      <th>0</th>\n",
       "      <td>1</td>\n",
       "      <td>The Da Vinci Code book is just awesome.</td>\n",
       "      <td>da vinci code book awesom</td>\n",
       "    </tr>\n",
       "    <tr>\n",
       "      <th>1</th>\n",
       "      <td>1</td>\n",
       "      <td>this was the first clive cussler i've ever rea...</td>\n",
       "      <td>first clive cussler ever read even book like r...</td>\n",
       "    </tr>\n",
       "    <tr>\n",
       "      <th>2</th>\n",
       "      <td>1</td>\n",
       "      <td>i liked the Da Vinci Code a lot.</td>\n",
       "      <td>like da vinci code lot</td>\n",
       "    </tr>\n",
       "    <tr>\n",
       "      <th>3</th>\n",
       "      <td>1</td>\n",
       "      <td>I liked the Da Vinci Code but it ultimatly did...</td>\n",
       "      <td>like da vinci code ultimat n't seem hold</td>\n",
       "    </tr>\n",
       "    <tr>\n",
       "      <th>4</th>\n",
       "      <td>1</td>\n",
       "      <td>that's not even an exaggeration ) and at midni...</td>\n",
       "      <td>even exagger midnight went wal-mart buy da vin...</td>\n",
       "    </tr>\n",
       "  </tbody>\n",
       "</table>\n",
       "</div>"
      ],
      "text/plain": [
       "   target                                               text  \\\n",
       "0       1            The Da Vinci Code book is just awesome.   \n",
       "1       1  this was the first clive cussler i've ever rea...   \n",
       "2       1                   i liked the Da Vinci Code a lot.   \n",
       "3       1  I liked the Da Vinci Code but it ultimatly did...   \n",
       "4       1  that's not even an exaggeration ) and at midni...   \n",
       "\n",
       "                                       cleansed_text  \n",
       "0                          da vinci code book awesom  \n",
       "1  first clive cussler ever read even book like r...  \n",
       "2                             like da vinci code lot  \n",
       "3           like da vinci code ultimat n't seem hold  \n",
       "4  even exagger midnight went wal-mart buy da vin...  "
      ]
     },
     "execution_count": 36,
     "metadata": {},
     "output_type": "execute_result"
    }
   ],
   "source": [
    "df.head()"
   ]
  },
  {
   "cell_type": "markdown",
   "metadata": {},
   "source": [
    "### Частотный словарь"
   ]
  },
  {
   "cell_type": "code",
   "execution_count": 37,
   "metadata": {
    "collapsed": true
   },
   "outputs": [],
   "source": [
    "from toolz.itertoolz import concat"
   ]
  },
  {
   "cell_type": "code",
   "execution_count": 38,
   "metadata": {
    "collapsed": true
   },
   "outputs": [],
   "source": [
    "all_tokens = list(concat(df.cleansed_text.str.split()))"
   ]
  },
  {
   "cell_type": "code",
   "execution_count": 39,
   "metadata": {
    "collapsed": true
   },
   "outputs": [],
   "source": [
    "from nltk.probability import FreqDist"
   ]
  },
  {
   "cell_type": "code",
   "execution_count": 40,
   "metadata": {
    "collapsed": true
   },
   "outputs": [],
   "source": [
    "fd = FreqDist(all_tokens)"
   ]
  },
  {
   "cell_type": "code",
   "execution_count": 41,
   "metadata": {},
   "outputs": [
    {
     "data": {
      "text/plain": [
       "[('vinci', 391),\n",
       " ('da', 388),\n",
       " ('brokeback', 388),\n",
       " ('code', 377),\n",
       " ('mountain', 375),\n",
       " ('harri', 353),\n",
       " ('potter', 346),\n",
       " ('love', 339),\n",
       " ('mission', 289),\n",
       " ('imposs', 288)]"
      ]
     },
     "execution_count": 41,
     "metadata": {},
     "output_type": "execute_result"
    }
   ],
   "source": [
    "fd.most_common(10)"
   ]
  },
  {
   "cell_type": "code",
   "execution_count": 44,
   "metadata": {},
   "outputs": [
    {
     "data": {
      "image/png": "[encoded data removed]",
      "text/plain": [
       "<matplotlib.figure.Figure at 0x11390318d0>"
      ]
     },
     "metadata": {},
     "output_type": "display_data"
    }
   ],
   "source": [
    "plt.figure(figsize=(22, 10));\n",
    "fd.plot(100, cumulative=False)"
   ]
  },
  {
   "cell_type": "code",
   "execution_count": 45,
   "metadata": {},
   "outputs": [
    {
     "data": {
      "text/plain": [
       "['clive', 'cussler', 'relic']"
      ]
     },
     "execution_count": 45,
     "metadata": {},
     "output_type": "execute_result"
    }
   ],
   "source": [
    "fd.hapaxes()[:3] # - тут все слова, что встретились лишь единожды"
   ]
  },
  {
   "cell_type": "code",
   "execution_count": 46,
   "metadata": {},
   "outputs": [
    {
     "data": {
      "text/plain": [
       "(1863, 1184)"
      ]
     },
     "execution_count": 46,
     "metadata": {},
     "output_type": "execute_result"
    }
   ],
   "source": [
    "len(fd.keys()), len(fd.hapaxes())"
   ]
  },
  {
   "cell_type": "code",
   "execution_count": 49,
   "metadata": {
    "collapsed": true
   },
   "outputs": [],
   "source": [
    "#удаляем редко встречающиеся слова\n",
    "df['frequent_cleansed'] = df.cleansed_text.str.split()\\\n",
    "    .apply(lambda ss: ' '.join([x for x in ss if x not in fd.hapaxes()]))"
   ]
  },
  {
   "cell_type": "code",
   "execution_count": 50,
   "metadata": {},
   "outputs": [
    {
     "data": {
      "text/html": [
       "<div>\n",
       "<style>\n",
       "    .dataframe thead tr:only-child th {\n",
       "        text-align: right;\n",
       "    }\n",
       "\n",
       "    .dataframe thead th {\n",
       "        text-align: left;\n",
       "    }\n",
       "\n",
       "    .dataframe tbody tr th {\n",
       "        vertical-align: top;\n",
       "    }\n",
       "</style>\n",
       "<table border=\"1\" class=\"dataframe\">\n",
       "  <thead>\n",
       "    <tr style=\"text-align: right;\">\n",
       "      <th></th>\n",
       "      <th>target</th>\n",
       "      <th>text</th>\n",
       "      <th>cleansed_text</th>\n",
       "      <th>frequent_cleansed</th>\n",
       "    </tr>\n",
       "  </thead>\n",
       "  <tbody>\n",
       "    <tr>\n",
       "      <th>0</th>\n",
       "      <td>1</td>\n",
       "      <td>The Da Vinci Code book is just awesome.</td>\n",
       "      <td>da vinci code book awesom</td>\n",
       "      <td>da vinci code book awesom</td>\n",
       "    </tr>\n",
       "    <tr>\n",
       "      <th>1</th>\n",
       "      <td>1</td>\n",
       "      <td>this was the first clive cussler i've ever rea...</td>\n",
       "      <td>first clive cussler ever read even book like r...</td>\n",
       "      <td>first ever read even book like da vinci code</td>\n",
       "    </tr>\n",
       "    <tr>\n",
       "      <th>2</th>\n",
       "      <td>1</td>\n",
       "      <td>i liked the Da Vinci Code a lot.</td>\n",
       "      <td>like da vinci code lot</td>\n",
       "      <td>like da vinci code lot</td>\n",
       "    </tr>\n",
       "    <tr>\n",
       "      <th>3</th>\n",
       "      <td>1</td>\n",
       "      <td>I liked the Da Vinci Code but it ultimatly did...</td>\n",
       "      <td>like da vinci code ultimat n't seem hold</td>\n",
       "      <td>like da vinci code n't seem hold</td>\n",
       "    </tr>\n",
       "    <tr>\n",
       "      <th>4</th>\n",
       "      <td>1</td>\n",
       "      <td>that's not even an exaggeration ) and at midni...</td>\n",
       "      <td>even exagger midnight went wal-mart buy da vin...</td>\n",
       "      <td>even went buy da vinci code amaz cours</td>\n",
       "    </tr>\n",
       "  </tbody>\n",
       "</table>\n",
       "</div>"
      ],
      "text/plain": [
       "   target                                               text  \\\n",
       "0       1            The Da Vinci Code book is just awesome.   \n",
       "1       1  this was the first clive cussler i've ever rea...   \n",
       "2       1                   i liked the Da Vinci Code a lot.   \n",
       "3       1  I liked the Da Vinci Code but it ultimatly did...   \n",
       "4       1  that's not even an exaggeration ) and at midni...   \n",
       "\n",
       "                                       cleansed_text  \\\n",
       "0                          da vinci code book awesom   \n",
       "1  first clive cussler ever read even book like r...   \n",
       "2                             like da vinci code lot   \n",
       "3           like da vinci code ultimat n't seem hold   \n",
       "4  even exagger midnight went wal-mart buy da vin...   \n",
       "\n",
       "                              frequent_cleansed  \n",
       "0                     da vinci code book awesom  \n",
       "1  first ever read even book like da vinci code  \n",
       "2                        like da vinci code lot  \n",
       "3              like da vinci code n't seem hold  \n",
       "4        even went buy da vinci code amaz cours  "
      ]
     },
     "execution_count": 50,
     "metadata": {},
     "output_type": "execute_result"
    }
   ],
   "source": [
    "df.head()"
   ]
  },
  {
   "cell_type": "markdown",
   "metadata": {},
   "source": [
    "### Кодирование текста: Bag of Words"
   ]
  },
  {
   "cell_type": "code",
   "execution_count": 51,
   "metadata": {
    "collapsed": true
   },
   "outputs": [],
   "source": [
    "from sklearn.feature_extraction.text import CountVectorizer"
   ]
  },
  {
   "cell_type": "code",
   "execution_count": 58,
   "metadata": {},
   "outputs": [],
   "source": [
    "cv = CountVectorizer()\n",
    "\n",
    "X_bow = cv.fit_transform(df.frequent_cleansed).todense();\n",
    "y = df.target"
   ]
  },
  {
   "cell_type": "code",
   "execution_count": 68,
   "metadata": {},
   "outputs": [],
   "source": [
    "from sklearn.linear_model import LogisticRegression\n",
    "clf = LogisticRegression()\n",
    "clf.fit(X_bow, y);"
   ]
  },
  {
   "cell_type": "code",
   "execution_count": 69,
   "metadata": {},
   "outputs": [
    {
     "data": {
      "text/plain": [
       "1407    0\n",
       "1408    0\n",
       "1409    0\n",
       "1410    0\n",
       "Name: target, dtype: int32"
      ]
     },
     "execution_count": 69,
     "metadata": {},
     "output_type": "execute_result"
    }
   ],
   "source": [
    "df.target[-4:]"
   ]
  },
  {
   "cell_type": "code",
   "execution_count": 70,
   "metadata": {},
   "outputs": [
    {
     "data": {
      "text/plain": [
       "1407                    brokeback mountain realli depress\n",
       "1408    sit watch movi award much despis movi brokebac...\n",
       "1409                   ok brokeback mountain horribl movi\n",
       "1410                   oh brokeback mountain terribl movi\n",
       "Name: frequent_cleansed, dtype: object"
      ]
     },
     "execution_count": 70,
     "metadata": {},
     "output_type": "execute_result"
    }
   ],
   "source": [
    "df.frequent_cleansed[-4:]"
   ]
  },
  {
   "cell_type": "code",
   "execution_count": 71,
   "metadata": {},
   "outputs": [
    {
     "data": {
      "text/plain": [
       "3    like da vinci code n't seem hold\n",
       "Name: frequent_cleansed, dtype: object"
      ]
     },
     "execution_count": 71,
     "metadata": {},
     "output_type": "execute_result"
    }
   ],
   "source": [
    "df.frequent_cleansed[3:4]"
   ]
  },
  {
   "cell_type": "code",
   "execution_count": 72,
   "metadata": {
    "collapsed": true
   },
   "outputs": [],
   "source": [
    "text = cv.transform(df.frequent_cleansed[3:4])"
   ]
  },
  {
   "cell_type": "code",
   "execution_count": 73,
   "metadata": {
    "collapsed": true
   },
   "outputs": [],
   "source": [
    "import eli5"
   ]
  },
  {
   "cell_type": "code",
   "execution_count": 74,
   "metadata": {},
   "outputs": [
    {
     "data": {
      "text/html": [
       "\n",
       "    <style>\n",
       "    table.eli5-weights tr:hover {\n",
       "        filter: brightness(85%);\n",
       "    }\n",
       "</style>\n",
       "\n",
       "\n",
       "\n",
       "    \n",
       "\n",
       "    \n",
       "\n",
       "    \n",
       "\n",
       "    \n",
       "\n",
       "    \n",
       "\n",
       "    \n",
       "\n",
       "\n",
       "    \n",
       "\n",
       "    \n",
       "\n",
       "    \n",
       "\n",
       "    \n",
       "        \n",
       "\n",
       "    \n",
       "\n",
       "        \n",
       "            \n",
       "                \n",
       "                \n",
       "    \n",
       "        <p style=\"margin-bottom: 0.5em; margin-top: 0em\">\n",
       "            <b>\n",
       "    \n",
       "        y=1\n",
       "    \n",
       "</b>\n",
       "\n",
       "    \n",
       "    (probability <b>0.898</b>, score <b>2.178</b>)\n",
       "\n",
       "top features\n",
       "        </p>\n",
       "    \n",
       "    <table class=\"eli5-weights\"\n",
       "           style=\"border-collapse: collapse; border: none; margin-top: 0em; table-layout: auto; margin-bottom: 2em;\">\n",
       "        <thead>\n",
       "        <tr style=\"border: none;\">\n",
       "            \n",
       "                <th style=\"padding: 0 1em 0 0.5em; text-align: right; border: none;\" title=\"Feature contribution already accounts for the feature value (for linear models, contribution = weight * feature value), and the sum of feature contributions is equal to the score or, for some classifiers, to the probability. Feature values are shown if &quot;show_feature_values&quot; is True.\">\n",
       "                    Contribution<sup>?</sup>\n",
       "                </th>\n",
       "            \n",
       "            <th style=\"padding: 0 0.5em 0 0.5em; text-align: left; border: none;\">Feature</th>\n",
       "            \n",
       "        </tr>\n",
       "        </thead>\n",
       "        <tbody>\n",
       "        \n",
       "            <tr style=\"background-color: hsl(120, 100.00%, 80.00%); border: none;\">\n",
       "    <td style=\"padding: 0 1em 0 0.5em; text-align: right; border: none;\">\n",
       "        +2.117\n",
       "    </td>\n",
       "    <td style=\"padding: 0 0.5em 0 0.5em; text-align: left; border: none;\">\n",
       "        critic\n",
       "    </td>\n",
       "    \n",
       "</tr>\n",
       "        \n",
       "            <tr style=\"background-color: hsl(120, 100.00%, 97.69%); border: none;\">\n",
       "    <td style=\"padding: 0 1em 0 0.5em; text-align: right; border: none;\">\n",
       "        +0.097\n",
       "    </td>\n",
       "    <td style=\"padding: 0 0.5em 0 0.5em; text-align: left; border: none;\">\n",
       "        &lt;BIAS&gt;\n",
       "    </td>\n",
       "    \n",
       "</tr>\n",
       "        \n",
       "            <tr style=\"background-color: hsl(120, 100.00%, 97.81%); border: none;\">\n",
       "    <td style=\"padding: 0 1em 0 0.5em; text-align: right; border: none;\">\n",
       "        +0.090\n",
       "    </td>\n",
       "    <td style=\"padding: 0 0.5em 0 0.5em; text-align: left; border: none;\">\n",
       "        sound\n",
       "    </td>\n",
       "    \n",
       "</tr>\n",
       "        \n",
       "            <tr style=\"background-color: hsl(120, 100.00%, 98.02%); border: none;\">\n",
       "    <td style=\"padding: 0 1em 0 0.5em; text-align: right; border: none;\">\n",
       "        +0.078\n",
       "    </td>\n",
       "    <td style=\"padding: 0 0.5em 0 0.5em; text-align: left; border: none;\">\n",
       "        industri\n",
       "    </td>\n",
       "    \n",
       "</tr>\n",
       "        \n",
       "            <tr style=\"background-color: hsl(120, 100.00%, 98.83%); border: none;\">\n",
       "    <td style=\"padding: 0 1em 0 0.5em; text-align: right; border: none;\">\n",
       "        +0.037\n",
       "    </td>\n",
       "    <td style=\"padding: 0 0.5em 0 0.5em; text-align: left; border: none;\">\n",
       "        alreadi\n",
       "    </td>\n",
       "    \n",
       "</tr>\n",
       "        \n",
       "        \n",
       "\n",
       "        \n",
       "        \n",
       "            <tr style=\"background-color: hsl(0, 100.00%, 98.11%); border: none;\">\n",
       "    <td style=\"padding: 0 1em 0 0.5em; text-align: right; border: none;\">\n",
       "        -0.073\n",
       "    </td>\n",
       "    <td style=\"padding: 0 0.5em 0 0.5em; text-align: left; border: none;\">\n",
       "        board\n",
       "    </td>\n",
       "    \n",
       "</tr>\n",
       "        \n",
       "            <tr style=\"background-color: hsl(0, 100.00%, 96.62%); border: none;\">\n",
       "    <td style=\"padding: 0 1em 0 0.5em; text-align: right; border: none;\">\n",
       "        -0.167\n",
       "    </td>\n",
       "    <td style=\"padding: 0 0.5em 0 0.5em; text-align: left; border: none;\">\n",
       "        school\n",
       "    </td>\n",
       "    \n",
       "</tr>\n",
       "        \n",
       "\n",
       "        </tbody>\n",
       "    </table>\n",
       "\n",
       "            \n",
       "        \n",
       "\n",
       "        \n",
       "\n",
       "\n",
       "\n",
       "    \n",
       "\n",
       "    \n",
       "\n",
       "    \n",
       "\n",
       "    \n",
       "\n",
       "\n",
       "    \n",
       "\n",
       "    \n",
       "\n",
       "    \n",
       "\n",
       "    \n",
       "\n",
       "    \n",
       "\n",
       "    \n",
       "\n",
       "\n",
       "    \n",
       "\n",
       "    \n",
       "\n",
       "    \n",
       "\n",
       "    \n",
       "\n",
       "    \n",
       "\n",
       "    \n",
       "\n",
       "\n",
       "\n"
      ],
      "text/plain": [
       "Explanation(estimator=\"LogisticRegression(C=1.0, class_weight=None, dual=False, fit_intercept=True,\\n          intercept_scaling=1, max_iter=100, multi_class='ovr', n_jobs=1,\\n          penalty='l2', random_state=None, solver='liblinear', tol=0.0001,\\n          verbose=0, warm_start=False)\", description=None, error=None, method='linear model', is_regression=False, targets=[TargetExplanation(target=1, feature_weights=FeatureWeights(pos=[FeatureWeight(feature='critic', weight=2.1169878747316608, std=None, value=1.0), FeatureWeight(feature='<BIAS>', weight=0.096767073440318763, std=None, value=1.0), FeatureWeight(feature='sound', weight=0.089856083745797774, std=None, value=1.0), FeatureWeight(feature='industri', weight=0.077607384876508922, std=None, value=1.0), FeatureWeight(feature='alreadi', weight=0.036740116491052327, std=None, value=1.0)], neg=[FeatureWeight(feature='school', weight=-0.16671365379112013, std=None, value=1.0), FeatureWeight(feature='board', weight=-0.072906064191714248, std=None, value=1.0)], pos_remaining=0, neg_remaining=0), proba=0.89828739477798603, score=2.1783388153025038, weighted_spans=None)], feature_importances=None, decision_tree=None, highlight_spaces=None, transition_features=None)"
      ]
     },
     "execution_count": 74,
     "metadata": {},
     "output_type": "execute_result"
    }
   ],
   "source": [
    "eli5.explain_prediction_sklearn(clf, text, feature_names=list(cv.vocabulary_.keys()))"
   ]
  },
  {
   "cell_type": "markdown",
   "metadata": {},
   "source": [
    "### TF-IDF (Term Frequency-Inverse Document Frequency)"
   ]
  },
  {
   "cell_type": "code",
   "execution_count": 75,
   "metadata": {
    "collapsed": true
   },
   "outputs": [],
   "source": [
    "from sklearn.feature_extraction.text import TfidfVectorizer"
   ]
  },
  {
   "cell_type": "code",
   "execution_count": 76,
   "metadata": {
    "collapsed": true
   },
   "outputs": [],
   "source": [
    "tfidf = TfidfVectorizer(min_df=1)"
   ]
  },
  {
   "cell_type": "code",
   "execution_count": 77,
   "metadata": {
    "collapsed": true
   },
   "outputs": [],
   "source": [
    "X_tfidf = tfidf.fit_transform(df.frequent_cleansed).todense()"
   ]
  },
  {
   "cell_type": "code",
   "execution_count": 78,
   "metadata": {},
   "outputs": [
    {
     "data": {
      "text/plain": [
       "[('aaron', 7.5596152374932419),\n",
       " ('aka', 7.5596152374932419),\n",
       " ('color', 7.5596152374932419),\n",
       " ('felicia', 7.5596152374932419),\n",
       " ('infus', 7.5596152374932419),\n",
       " ('obnoxi', 7.5596152374932419),\n",
       " ('tea', 7.5596152374932419),\n",
       " ('10', 7.1541501293850773),\n",
       " ('17', 7.1541501293850773),\n",
       " ('6th', 7.1541501293850773),\n",
       " ('abl', 7.1541501293850773),\n",
       " ('academi', 7.1541501293850773),\n",
       " ('accept', 7.1541501293850773),\n",
       " ('act', 7.1541501293850773),\n",
       " ('admir', 7.1541501293850773),\n",
       " ('adult', 7.1541501293850773),\n",
       " ('ago', 7.1541501293850773),\n",
       " ('all', 7.1541501293850773),\n",
       " ('although', 7.1541501293850773),\n",
       " ('ang', 7.1541501293850773)]"
      ]
     },
     "execution_count": 78,
     "metadata": {},
     "output_type": "execute_result"
    }
   ],
   "source": [
    "idf = tfidf.idf_\n",
    "terms_score  = list(zip(tfidf.get_feature_names(), idf))\n",
    "sorted(terms_score, key=lambda x: -x[1])[:20]"
   ]
  },
  {
   "cell_type": "markdown",
   "metadata": {},
   "source": [
    "### Модели с разреженными матрицами"
   ]
  },
  {
   "cell_type": "code",
   "execution_count": 82,
   "metadata": {},
   "outputs": [
    {
     "name": "stdout",
     "output_type": "stream",
     "text": [
      "0.926251675174 +/- 0.111872256195\n"
     ]
    }
   ],
   "source": [
    "from sklearn.model_selection import cross_val_score\n",
    "from sklearn.linear_model import LogisticRegression\n",
    "clf = LogisticRegression()\n",
    "\n",
    "scores = cross_val_score(clf, X_bow, y)\n",
    "print(np.mean(scores), '+/-', 2 * np.std(scores))"
   ]
  },
  {
   "cell_type": "code",
   "execution_count": 83,
   "metadata": {},
   "outputs": [
    {
     "name": "stdout",
     "output_type": "stream",
     "text": [
      "0.887970366355 +/- 0.112405883623\n"
     ]
    }
   ],
   "source": [
    "from sklearn.ensemble import RandomForestClassifier\n",
    "scores = cross_val_score(RandomForestClassifier(n_estimators=100), X_bow, y)\n",
    "print(np.mean(scores), '+/-', 2 * np.std(scores))"
   ]
  },
  {
   "cell_type": "markdown",
   "metadata": {},
   "source": [
    "### Word2Vec"
   ]
  },
  {
   "cell_type": "code",
   "execution_count": 84,
   "metadata": {
    "collapsed": true
   },
   "outputs": [],
   "source": [
    "# загрузим библиотеки и установим опции\n",
    "from __future__ import division, print_function\n",
    "# отключим всякие предупреждения Anaconda\n",
    "import warnings\n",
    "warnings.filterwarnings('ignore')\n",
    "#%matplotlib inline\n",
    "import numpy as np\n",
    "import pandas as pd\n",
    "from sklearn.metrics import roc_auc_score"
   ]
  },
  {
   "cell_type": "code",
   "execution_count": 85,
   "metadata": {},
   "outputs": [
    {
     "data": {
      "text/html": [
       "<div>\n",
       "<style>\n",
       "    .dataframe thead tr:only-child th {\n",
       "        text-align: right;\n",
       "    }\n",
       "\n",
       "    .dataframe thead th {\n",
       "        text-align: left;\n",
       "    }\n",
       "\n",
       "    .dataframe tbody tr th {\n",
       "        vertical-align: top;\n",
       "    }\n",
       "</style>\n",
       "<table border=\"1\" class=\"dataframe\">\n",
       "  <thead>\n",
       "    <tr style=\"text-align: right;\">\n",
       "      <th></th>\n",
       "      <th>session_id</th>\n",
       "      <th>site1</th>\n",
       "      <th>time1</th>\n",
       "      <th>site2</th>\n",
       "      <th>time2</th>\n",
       "      <th>site3</th>\n",
       "      <th>time3</th>\n",
       "      <th>site4</th>\n",
       "      <th>time4</th>\n",
       "      <th>site5</th>\n",
       "      <th>...</th>\n",
       "      <th>time6</th>\n",
       "      <th>site7</th>\n",
       "      <th>time7</th>\n",
       "      <th>site8</th>\n",
       "      <th>time8</th>\n",
       "      <th>site9</th>\n",
       "      <th>time9</th>\n",
       "      <th>site10</th>\n",
       "      <th>time10</th>\n",
       "      <th>target</th>\n",
       "    </tr>\n",
       "  </thead>\n",
       "  <tbody>\n",
       "    <tr>\n",
       "      <th>21668</th>\n",
       "      <td>21669</td>\n",
       "      <td>56</td>\n",
       "      <td>2013-01-12 08:05:57</td>\n",
       "      <td>55.0</td>\n",
       "      <td>2013-01-12 08:05:57</td>\n",
       "      <td>NaN</td>\n",
       "      <td>NaT</td>\n",
       "      <td>NaN</td>\n",
       "      <td>NaT</td>\n",
       "      <td>NaN</td>\n",
       "      <td>...</td>\n",
       "      <td>NaT</td>\n",
       "      <td>NaN</td>\n",
       "      <td>NaT</td>\n",
       "      <td>NaN</td>\n",
       "      <td>NaT</td>\n",
       "      <td>NaN</td>\n",
       "      <td>NaT</td>\n",
       "      <td>NaN</td>\n",
       "      <td>NaT</td>\n",
       "      <td>0</td>\n",
       "    </tr>\n",
       "    <tr>\n",
       "      <th>54842</th>\n",
       "      <td>54843</td>\n",
       "      <td>56</td>\n",
       "      <td>2013-01-12 08:37:23</td>\n",
       "      <td>55.0</td>\n",
       "      <td>2013-01-12 08:37:23</td>\n",
       "      <td>56.0</td>\n",
       "      <td>2013-01-12 09:07:07</td>\n",
       "      <td>55.0</td>\n",
       "      <td>2013-01-12 09:07:09</td>\n",
       "      <td>NaN</td>\n",
       "      <td>...</td>\n",
       "      <td>NaT</td>\n",
       "      <td>NaN</td>\n",
       "      <td>NaT</td>\n",
       "      <td>NaN</td>\n",
       "      <td>NaT</td>\n",
       "      <td>NaN</td>\n",
       "      <td>NaT</td>\n",
       "      <td>NaN</td>\n",
       "      <td>NaT</td>\n",
       "      <td>0</td>\n",
       "    </tr>\n",
       "    <tr>\n",
       "      <th>77291</th>\n",
       "      <td>77292</td>\n",
       "      <td>946</td>\n",
       "      <td>2013-01-12 08:50:13</td>\n",
       "      <td>946.0</td>\n",
       "      <td>2013-01-12 08:50:14</td>\n",
       "      <td>951.0</td>\n",
       "      <td>2013-01-12 08:50:15</td>\n",
       "      <td>946.0</td>\n",
       "      <td>2013-01-12 08:50:15</td>\n",
       "      <td>946.0</td>\n",
       "      <td>...</td>\n",
       "      <td>2013-01-12 08:50:16</td>\n",
       "      <td>948.0</td>\n",
       "      <td>2013-01-12 08:50:16</td>\n",
       "      <td>784.0</td>\n",
       "      <td>2013-01-12 08:50:16</td>\n",
       "      <td>949.0</td>\n",
       "      <td>2013-01-12 08:50:17</td>\n",
       "      <td>946.0</td>\n",
       "      <td>2013-01-12 08:50:17</td>\n",
       "      <td>0</td>\n",
       "    </tr>\n",
       "    <tr>\n",
       "      <th>114020</th>\n",
       "      <td>114021</td>\n",
       "      <td>945</td>\n",
       "      <td>2013-01-12 08:50:17</td>\n",
       "      <td>948.0</td>\n",
       "      <td>2013-01-12 08:50:17</td>\n",
       "      <td>949.0</td>\n",
       "      <td>2013-01-12 08:50:18</td>\n",
       "      <td>948.0</td>\n",
       "      <td>2013-01-12 08:50:18</td>\n",
       "      <td>945.0</td>\n",
       "      <td>...</td>\n",
       "      <td>2013-01-12 08:50:18</td>\n",
       "      <td>947.0</td>\n",
       "      <td>2013-01-12 08:50:19</td>\n",
       "      <td>945.0</td>\n",
       "      <td>2013-01-12 08:50:19</td>\n",
       "      <td>946.0</td>\n",
       "      <td>2013-01-12 08:50:19</td>\n",
       "      <td>946.0</td>\n",
       "      <td>2013-01-12 08:50:20</td>\n",
       "      <td>0</td>\n",
       "    </tr>\n",
       "    <tr>\n",
       "      <th>146669</th>\n",
       "      <td>146670</td>\n",
       "      <td>947</td>\n",
       "      <td>2013-01-12 08:50:20</td>\n",
       "      <td>950.0</td>\n",
       "      <td>2013-01-12 08:50:20</td>\n",
       "      <td>948.0</td>\n",
       "      <td>2013-01-12 08:50:20</td>\n",
       "      <td>947.0</td>\n",
       "      <td>2013-01-12 08:50:21</td>\n",
       "      <td>950.0</td>\n",
       "      <td>...</td>\n",
       "      <td>2013-01-12 08:50:21</td>\n",
       "      <td>946.0</td>\n",
       "      <td>2013-01-12 08:50:21</td>\n",
       "      <td>951.0</td>\n",
       "      <td>2013-01-12 08:50:22</td>\n",
       "      <td>946.0</td>\n",
       "      <td>2013-01-12 08:50:22</td>\n",
       "      <td>947.0</td>\n",
       "      <td>2013-01-12 08:50:22</td>\n",
       "      <td>0</td>\n",
       "    </tr>\n",
       "  </tbody>\n",
       "</table>\n",
       "<p>5 rows × 22 columns</p>\n",
       "</div>"
      ],
      "text/plain": [
       "        session_id  site1               time1  site2               time2  \\\n",
       "21668        21669     56 2013-01-12 08:05:57   55.0 2013-01-12 08:05:57   \n",
       "54842        54843     56 2013-01-12 08:37:23   55.0 2013-01-12 08:37:23   \n",
       "77291        77292    946 2013-01-12 08:50:13  946.0 2013-01-12 08:50:14   \n",
       "114020      114021    945 2013-01-12 08:50:17  948.0 2013-01-12 08:50:17   \n",
       "146669      146670    947 2013-01-12 08:50:20  950.0 2013-01-12 08:50:20   \n",
       "\n",
       "        site3               time3  site4               time4  site5   ...    \\\n",
       "21668     NaN                 NaT    NaN                 NaT    NaN   ...     \n",
       "54842    56.0 2013-01-12 09:07:07   55.0 2013-01-12 09:07:09    NaN   ...     \n",
       "77291   951.0 2013-01-12 08:50:15  946.0 2013-01-12 08:50:15  946.0   ...     \n",
       "114020  949.0 2013-01-12 08:50:18  948.0 2013-01-12 08:50:18  945.0   ...     \n",
       "146669  948.0 2013-01-12 08:50:20  947.0 2013-01-12 08:50:21  950.0   ...     \n",
       "\n",
       "                     time6  site7               time7  site8  \\\n",
       "21668                  NaT    NaN                 NaT    NaN   \n",
       "54842                  NaT    NaN                 NaT    NaN   \n",
       "77291  2013-01-12 08:50:16  948.0 2013-01-12 08:50:16  784.0   \n",
       "114020 2013-01-12 08:50:18  947.0 2013-01-12 08:50:19  945.0   \n",
       "146669 2013-01-12 08:50:21  946.0 2013-01-12 08:50:21  951.0   \n",
       "\n",
       "                     time8  site9               time9  site10  \\\n",
       "21668                  NaT    NaN                 NaT     NaN   \n",
       "54842                  NaT    NaN                 NaT     NaN   \n",
       "77291  2013-01-12 08:50:16  949.0 2013-01-12 08:50:17   946.0   \n",
       "114020 2013-01-12 08:50:19  946.0 2013-01-12 08:50:19   946.0   \n",
       "146669 2013-01-12 08:50:22  946.0 2013-01-12 08:50:22   947.0   \n",
       "\n",
       "                    time10  target  \n",
       "21668                  NaT       0  \n",
       "54842                  NaT       0  \n",
       "77291  2013-01-12 08:50:17       0  \n",
       "114020 2013-01-12 08:50:20       0  \n",
       "146669 2013-01-12 08:50:22       0  \n",
       "\n",
       "[5 rows x 22 columns]"
      ]
     },
     "execution_count": 85,
     "metadata": {},
     "output_type": "execute_result"
    }
   ],
   "source": [
    "# загрузим обучающую и тестовую выборки\n",
    "train_df = pd.read_csv('data/TextWorks/train_sessions.csv')#,index_col='session_id')\n",
    "test_df = pd.read_csv('data/TextWorks/test_sessions.csv')#, index_col='session_id')\n",
    "\n",
    "# приведем колонки time1, ..., time10 к временному формату\n",
    "times = ['time%s' % i for i in range(1, 11)]\n",
    "train_df[times] = train_df[times].apply(pd.to_datetime)\n",
    "test_df[times] = test_df[times].apply(pd.to_datetime)\n",
    "\n",
    "# отсортируем данные по времени\n",
    "train_df = train_df.sort_values(by='time1')\n",
    "\n",
    "# посмотрим на заголовок обучающей выборки\n",
    "train_df.head()"
   ]
  },
  {
   "cell_type": "code",
   "execution_count": 86,
   "metadata": {
    "collapsed": true
   },
   "outputs": [],
   "source": [
    "sites = ['site%s' % i for i in range(1, 11)]\n",
    "#заменим nan на 0\n",
    "train_df[sites] = train_df[sites].fillna(0).astype('int').astype('str')\n",
    "test_df[sites] = test_df[sites].fillna(0).astype('int').astype('str')\n",
    "#создадим тексты необходимые для обучения word2vec\n",
    "train_df['list'] = train_df['site1']\n",
    "test_df['list'] = test_df['site1']\n",
    "for s in sites[1:]:\n",
    "    train_df['list'] = train_df['list']+\",\"+train_df[s]\n",
    "    test_df['list'] = test_df['list']+\",\"+test_df[s]\n",
    "train_df['list_w'] = train_df['list'].apply(lambda x: x.split(','))\n",
    "test_df['list_w'] = test_df['list'].apply(lambda x: x.split(','))"
   ]
  },
  {
   "cell_type": "code",
   "execution_count": 87,
   "metadata": {},
   "outputs": [
    {
     "data": {
      "text/plain": [
       "['229', '1500', '33', '1500', '391', '35', '29', '2276', '40305', '23']"
      ]
     },
     "execution_count": 87,
     "metadata": {},
     "output_type": "execute_result"
    }
   ],
   "source": [
    "#В нашем случае предложение это набор сайтов, которые посещал пользователь\n",
    "#нам необязательно переводить цифры в названия сайтов, т.к. алгоритм будем выявлять взаимосвязь их друг с другом.\n",
    "train_df['list_w'][10]"
   ]
  },
  {
   "cell_type": "code",
   "execution_count": 89,
   "metadata": {},
   "outputs": [],
   "source": [
    "# подключим word2vec\n",
    "from gensim.models import word2vec"
   ]
  },
  {
   "cell_type": "code",
   "execution_count": 90,
   "metadata": {
    "collapsed": true
   },
   "outputs": [],
   "source": [
    "#объединим обучающую и тестовую выборки и обучим нашу модель на всех данных \n",
    "#с размером окна в 6=3*2 (длина предложения 10 слов) и итоговыми векторами размерности 300, параметр workers отвечает за количество ядер\n",
    "test_df['target'] = -1\n",
    "data = pd.concat([train_df,test_df], axis=0)\n",
    "\n",
    "model = word2vec.Word2Vec(data['list_w'], size=300, window=3, workers=4)\n",
    "#создадим словарь со словами и соответсвующими им векторами\n",
    "w2v = dict(zip(model.wv.index2word, model.wv.syn0))"
   ]
  },
  {
   "cell_type": "code",
   "execution_count": 91,
   "metadata": {
    "collapsed": true
   },
   "outputs": [],
   "source": [
    "class mean_vectorizer(object):\n",
    "    def __init__(self, word2vec):\n",
    "        self.word2vec = word2vec\n",
    "        self.dim = len(next(iter(w2v.values())))\n",
    "\n",
    "    def fit(self, X):\n",
    "        return self \n",
    "\n",
    "    def transform(self, X):\n",
    "        return np.array([\n",
    "            np.mean([self.word2vec[w] for w in words if w in self.word2vec] \n",
    "                    or [np.zeros(self.dim)], axis=0)\n",
    "            for words in X\n",
    "        ])"
   ]
  },
  {
   "cell_type": "code",
   "execution_count": 92,
   "metadata": {},
   "outputs": [
    {
     "data": {
      "text/plain": [
       "(253561, 300)"
      ]
     },
     "execution_count": 92,
     "metadata": {},
     "output_type": "execute_result"
    }
   ],
   "source": [
    "data_mean=mean_vectorizer(w2v).fit(train_df['list_w']).transform(train_df['list_w'])\n",
    "data_mean.shape"
   ]
  },
  {
   "cell_type": "code",
   "execution_count": 93,
   "metadata": {},
   "outputs": [
    {
     "data": {
      "text/plain": [
       "((202849, 300), (50712, 300), 0.009726446765820882, 0.006389020350212968)"
      ]
     },
     "execution_count": 93,
     "metadata": {},
     "output_type": "execute_result"
    }
   ],
   "source": [
    "# Воспользуемся валидацией\n",
    "def split(train,y,ratio):\n",
    "    idx = round(train.shape[0] * ratio)\n",
    "    return train[:idx, :], train[idx:, :], y[:idx], y[idx:]\n",
    "y = train_df['target']\n",
    "Xtr, Xval, ytr, yval = split(data_mean, y,0.8)\n",
    "Xtr.shape,Xval.shape,ytr.mean(),yval.mean()"
   ]
  },
  {
   "cell_type": "code",
   "execution_count": 96,
   "metadata": {},
   "outputs": [
    {
     "name": "stderr",
     "output_type": "stream",
     "text": [
      "Using TensorFlow backend.\n"
     ]
    }
   ],
   "source": [
    "# подключим библиотеки keras \n",
    "from keras.models import Sequential, Model\n",
    "from keras.layers import Dense, Dropout, Activation, Input\n",
    "from keras.preprocessing.text import Tokenizer\n",
    "from keras import regularizers"
   ]
  },
  {
   "cell_type": "code",
   "execution_count": 97,
   "metadata": {
    "collapsed": true
   },
   "outputs": [],
   "source": [
    "# опишем нейронную сеть\n",
    "model = Sequential()\n",
    "model.add(Dense(128, input_dim=(Xtr.shape[1])))\n",
    "model.add(Activation('relu'))\n",
    "model.add(Dropout(0.5))\n",
    "model.add(Dense(1))\n",
    "model.add(Activation('sigmoid'))\n",
    "model.compile(loss='binary_crossentropy',\n",
    "              optimizer='adam',\n",
    "              metrics=['binary_accuracy'])"
   ]
  },
  {
   "cell_type": "code",
   "execution_count": 100,
   "metadata": {},
   "outputs": [],
   "source": [
    "history = model.fit(Xtr, ytr,                   \n",
    "                    batch_size=128,\n",
    "                    epochs=10,\n",
    "                    validation_data=(Xval, yval),\n",
    "                    class_weight='auto',\n",
    "                    verbose=0)"
   ]
  },
  {
   "cell_type": "code",
   "execution_count": 101,
   "metadata": {},
   "outputs": [
    {
     "data": {
      "text/plain": [
       "0.92353923063202381"
      ]
     },
     "execution_count": 101,
     "metadata": {},
     "output_type": "execute_result"
    }
   ],
   "source": [
    "classes = model.predict(Xval, batch_size=128)\n",
    "roc_auc_score(yval, classes)"
   ]
  }
 ],
 "metadata": {
  "kernelspec": {
   "display_name": "Python 3",
   "language": "python",
   "name": "python3"
  },
  "language_info": {
   "codemirror_mode": {
    "name": "ipython",
    "version": 3
   },
   "file_extension": ".py",
   "mimetype": "text/x-python",
   "name": "python",
   "nbconvert_exporter": "python",
   "pygments_lexer": "ipython3",
   "version": "3.6.1"
  },
  "toc": {
   "colors": {
    "hover_highlight": "#DAA520",
    "running_highlight": "#FF0000",
    "selected_highlight": "#FFD700"
   },
   "moveMenuLeft": true,
   "nav_menu": {
    "height": "48px",
    "width": "252px"
   },
   "navigate_menu": true,
   "number_sections": true,
   "sideBar": true,
   "threshold": 4,
   "toc_cell": false,
   "toc_section_display": "block",
   "toc_window_display": false
  }
 },
 "nbformat": 4,
 "nbformat_minor": 2
}
